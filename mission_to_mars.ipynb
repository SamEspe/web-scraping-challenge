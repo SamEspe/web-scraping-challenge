{
 "cells": [
  {
   "cell_type": "markdown",
   "id": "ad0e47b7",
   "metadata": {},
   "source": [
    "# Part 1: Scraping"
   ]
  },
  {
   "cell_type": "markdown",
   "id": "ee235b05",
   "metadata": {},
   "source": [
    "### Import dependencies"
   ]
  },
  {
   "cell_type": "code",
   "execution_count": null,
   "id": "8ef751a3",
   "metadata": {},
   "outputs": [],
   "source": [
    "from splinter import Browser\n",
    "from bs4 import BeautifulSoup\n",
    "from webdriver_manager.chrome import ChromeDriverManager\n",
    "import pandas as pd"
   ]
  },
  {
   "cell_type": "markdown",
   "id": "17882b10",
   "metadata": {},
   "source": [
    "### Scraping code"
   ]
  },
  {
   "cell_type": "code",
   "execution_count": null,
   "id": "57397b89",
   "metadata": {},
   "outputs": [],
   "source": []
  },
  {
   "cell_type": "markdown",
   "id": "10c98082",
   "metadata": {},
   "source": [
    "### NASA Mars News — Latest News Title and Paragraph Text"
   ]
  },
  {
   "cell_type": "code",
   "execution_count": null,
   "id": "668e55aa",
   "metadata": {},
   "outputs": [],
   "source": []
  },
  {
   "cell_type": "markdown",
   "id": "c108a7a2",
   "metadata": {},
   "source": [
    "### JPL Mars Space Images — Featured Image"
   ]
  },
  {
   "cell_type": "code",
   "execution_count": null,
   "id": "9ed9feb3",
   "metadata": {},
   "outputs": [],
   "source": []
  },
  {
   "cell_type": "markdown",
   "id": "81c27ae6",
   "metadata": {},
   "source": [
    "### Mars Facts"
   ]
  },
  {
   "cell_type": "code",
   "execution_count": null,
   "id": "a82b57d6",
   "metadata": {},
   "outputs": [],
   "source": []
  },
  {
   "cell_type": "markdown",
   "id": "88d671eb",
   "metadata": {},
   "source": [
    "### Mars Hemispheres"
   ]
  },
  {
   "cell_type": "code",
   "execution_count": null,
   "id": "1cff6de9",
   "metadata": {},
   "outputs": [],
   "source": []
  }
 ],
 "metadata": {
  "kernelspec": {
   "display_name": "Python 3 (ipykernel)",
   "language": "python",
   "name": "python3"
  },
  "language_info": {
   "codemirror_mode": {
    "name": "ipython",
    "version": 3
   },
   "file_extension": ".py",
   "mimetype": "text/x-python",
   "name": "python",
   "nbconvert_exporter": "python",
   "pygments_lexer": "ipython3",
   "version": "3.8.13"
  }
 },
 "nbformat": 4,
 "nbformat_minor": 5
}
