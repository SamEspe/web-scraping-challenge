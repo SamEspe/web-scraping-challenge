{
 "cells": [
  {
   "cell_type": "markdown",
   "id": "ad0e47b7",
   "metadata": {},
   "source": [
    "# Part 1: Scraping"
   ]
  },
  {
   "cell_type": "markdown",
   "id": "ee235b05",
   "metadata": {},
   "source": [
    "### Import dependencies"
   ]
  },
  {
   "cell_type": "code",
   "execution_count": null,
   "id": "8ef751a3",
   "metadata": {},
   "outputs": [],
   "source": [
    "from splinter import Browser\n",
    "from bs4 import BeautifulSoup\n",
    "from webdriver_manager.chrome import ChromeDriverManager\n",
    "import pandas as pd\n",
    "import requests"
   ]
  },
  {
   "cell_type": "code",
   "execution_count": null,
   "id": "6d535767",
   "metadata": {},
   "outputs": [],
   "source": [
    "# Set up Splinter\n",
    "\n",
    "executable_path = {'executable_path': ChromeDriverManager().install()}\n",
    "browser = Browser('chrome', **executable_path, headless = False)"
   ]
  },
  {
   "cell_type": "markdown",
   "id": "17882b10",
   "metadata": {},
   "source": [
    "## Scraping code"
   ]
  },
  {
   "cell_type": "markdown",
   "id": "10c98082",
   "metadata": {},
   "source": [
    "### NASA Mars News — Latest News Title and Paragraph Text"
   ]
  },
  {
   "cell_type": "code",
   "execution_count": null,
   "id": "668e55aa",
   "metadata": {},
   "outputs": [],
   "source": [
    "# Set URL for news site\n",
    "\n",
    "url_news = 'https://redplanetscience.com/'"
   ]
  },
  {
   "cell_type": "code",
   "execution_count": null,
   "id": "e02fb967",
   "metadata": {},
   "outputs": [],
   "source": [
    "# Use Splinter to visit the website \n",
    "\n",
    "browser.visit(url_news)"
   ]
  },
  {
   "cell_type": "code",
   "execution_count": null,
   "id": "faf87e2f",
   "metadata": {},
   "outputs": [],
   "source": [
    "# Make a Beautiful Soup object of the website via Splinter, look at the results\n",
    "html_news = browser.html\n",
    "\n",
    "soup_news = BeautifulSoup(html_news, 'html.parser')\n",
    "\n",
    "print(soup_news.prettify())"
   ]
  },
  {
   "cell_type": "code",
   "execution_count": null,
   "id": "1b74bdb6",
   "metadata": {},
   "outputs": [],
   "source": [
    "# Using the soup object, the headline is the class 'content_title' and the description \n",
    "# is the class 'article_teaser_body'\n",
    "\n",
    "results = soup_news.find('div', class_='article_teaser_body')\n",
    "\n",
    "print(results)"
   ]
  },
  {
   "cell_type": "code",
   "execution_count": null,
   "id": "e59be0bb",
   "metadata": {},
   "outputs": [],
   "source": [
    "# Assign headline and description to variables\n",
    "\n",
    "headline = soup_news.find('div', class_ = 'content_title')\n",
    "\n",
    "description = soup_news.find('div', class_ = 'article_teaser_body')"
   ]
  },
  {
   "cell_type": "code",
   "execution_count": null,
   "id": "0691cfc9",
   "metadata": {},
   "outputs": [],
   "source": [
    "# Quit the browser\n",
    "\n",
    "browser.quit()"
   ]
  },
  {
   "cell_type": "markdown",
   "id": "c108a7a2",
   "metadata": {},
   "source": [
    "### JPL Mars Space Images — Featured Image"
   ]
  },
  {
   "cell_type": "code",
   "execution_count": null,
   "id": "9ed9feb3",
   "metadata": {},
   "outputs": [],
   "source": [
    "# Load in new URL\n",
    "\n",
    "url_images = 'https://spaceimages-mars.com/'"
   ]
  },
  {
   "cell_type": "code",
   "execution_count": null,
   "id": "2b0a018f",
   "metadata": {},
   "outputs": [],
   "source": [
    "# Use Splinter to click the \"Full Image\" button\n",
    "\n",
    "browser.visit(url_images)"
   ]
  },
  {
   "cell_type": "code",
   "execution_count": null,
   "id": "97730d47",
   "metadata": {},
   "outputs": [],
   "source": [
    "# Explore the site with BeautifulSoup\n",
    "\n",
    "html_images = browser.html\n",
    "\n",
    "soup_images = BeautifulSoup(html_images, 'html.parser')\n",
    "\n",
    "print(soup_images.prettify())"
   ]
  },
  {
   "cell_type": "code",
   "execution_count": null,
   "id": "7c786873",
   "metadata": {},
   "outputs": [],
   "source": [
    "# Save the image URL\n",
    "\n",
    "featured_image = soup_images.find('img', class_ = 'headerimage fade-in')\n",
    "\n",
    "print(featured_image)"
   ]
  },
  {
   "cell_type": "code",
   "execution_count": null,
   "id": "2740475e",
   "metadata": {},
   "outputs": [],
   "source": [
    "image_extension = featured_image.get('src')"
   ]
  },
  {
   "cell_type": "code",
   "execution_count": null,
   "id": "0f2d5411",
   "metadata": {},
   "outputs": [],
   "source": [
    "image_full_url = 'https://spaceimages-mars.com/' + image_extension\n",
    "\n",
    "print(image_full_url)"
   ]
  },
  {
   "cell_type": "code",
   "execution_count": null,
   "id": "0a8f7c87",
   "metadata": {},
   "outputs": [],
   "source": [
    "# Quit the browser\n",
    "\n",
    "browser.quit()"
   ]
  },
  {
   "cell_type": "markdown",
   "id": "81c27ae6",
   "metadata": {},
   "source": [
    "### Mars Facts"
   ]
  },
  {
   "cell_type": "code",
   "execution_count": null,
   "id": "a82b57d6",
   "metadata": {},
   "outputs": [],
   "source": [
    "# Load in new URL\n",
    "\n",
    "url_facts = 'https://galaxyfacts-mars.com/'\n",
    "\n",
    "browser.visit(url_facts)"
   ]
  },
  {
   "cell_type": "code",
   "execution_count": null,
   "id": "7ff19e04",
   "metadata": {},
   "outputs": [],
   "source": [
    "# Find facts table\n",
    "\n",
    "html_facts = browser.html\n",
    "\n",
    "soup_facts = BeautifulSoup(html_facts, 'html.parser')\n",
    "\n",
    "print(soup_facts.prettify())"
   ]
  },
  {
   "cell_type": "code",
   "execution_count": null,
   "id": "be196410",
   "metadata": {},
   "outputs": [],
   "source": [
    "# Save data from facts table using Pandas\n",
    "\n",
    "tables = pd.read_html(url_facts)\n",
    "\n",
    "tables"
   ]
  },
  {
   "cell_type": "code",
   "execution_count": null,
   "id": "5468d59f",
   "metadata": {},
   "outputs": [],
   "source": [
    "# Save the table I actually want\n",
    "\n",
    "mars_table = tables[1]"
   ]
  },
  {
   "cell_type": "code",
   "execution_count": null,
   "id": "93e0d7ac",
   "metadata": {},
   "outputs": [],
   "source": [
    "# Construct an HTML table string, part 1: turn list into a dataframe\n",
    "\n",
    "mars_df = pd.DataFrame(mars_table)\n",
    "\n",
    "mars_df"
   ]
  },
  {
   "cell_type": "code",
   "execution_count": null,
   "id": "bd98606f",
   "metadata": {},
   "outputs": [],
   "source": [
    "# Construct an HTML table string, part 2: turn dataframe into a table string\n",
    "\n",
    "mars_table_html = mars_df.to_html()"
   ]
  },
  {
   "cell_type": "markdown",
   "id": "88d671eb",
   "metadata": {},
   "source": [
    "### Mars Hemispheres"
   ]
  },
  {
   "cell_type": "code",
   "execution_count": null,
   "id": "e359f126",
   "metadata": {},
   "outputs": [],
   "source": [
    "# Create a dictionary to store the image information\n",
    "\n",
    "hemispheres = []"
   ]
  },
  {
   "cell_type": "code",
   "execution_count": null,
   "id": "1cff6de9",
   "metadata": {},
   "outputs": [],
   "source": [
    "# Load in new URL\n",
    "\n",
    "url_hemispheres = 'https://marshemispheres.com/'"
   ]
  },
  {
   "cell_type": "code",
   "execution_count": null,
   "id": "75c190b9",
   "metadata": {},
   "outputs": [],
   "source": [
    "# Use Splinter to open the URL\n",
    "\n",
    "browser.visit(url_hemispheres)"
   ]
  },
  {
   "cell_type": "code",
   "execution_count": null,
   "id": "21071000",
   "metadata": {},
   "outputs": [],
   "source": [
    "# Look at the site structure with Beautiful Soup\n",
    "\n",
    "hemispheres_html = browser.html\n",
    "\n",
    "soup_hemi = BeautifulSoup(hemispheres_html, 'html.parser')\n",
    "\n",
    "print(soup_hemi.prettify())"
   ]
  },
  {
   "cell_type": "code",
   "execution_count": null,
   "id": "cab1a23b",
   "metadata": {},
   "outputs": [],
   "source": [
    "# Use Splinter to click on Cerberus picture\n",
    "\n",
    "browser.links.find_by_partial_text('Cerberus Hemisphere Enhanced').click()"
   ]
  },
  {
   "cell_type": "code",
   "execution_count": null,
   "id": "b3aad36e",
   "metadata": {},
   "outputs": [],
   "source": [
    "# Get Cerberus Hemisphere\n",
    "cerberus_dict = {}\n",
    "cerberus_dict[\"title\"] = \"Cerberus Hemisphere Enhanced\"\n",
    "cerberus_dict[\"image_url\"] = browser.url\n",
    "\n",
    "cerberus_dict"
   ]
  },
  {
   "cell_type": "code",
   "execution_count": null,
   "id": "76f65abd",
   "metadata": {},
   "outputs": [],
   "source": [
    "# Navigate back to the main page\n",
    "\n",
    "browser.back()"
   ]
  },
  {
   "cell_type": "code",
   "execution_count": null,
   "id": "8fa2c81a",
   "metadata": {},
   "outputs": [],
   "source": [
    "# Use Splinter to click on Schiaparelli picture\n",
    "\n",
    "browser.links.find_by_partial_text('Schiaparelli Hemisphere Enhanced').click()"
   ]
  },
  {
   "cell_type": "code",
   "execution_count": null,
   "id": "4a26b212",
   "metadata": {},
   "outputs": [],
   "source": [
    "# Get Schiaparelli Hemisphere\n",
    "\n",
    "schiap_dict = {}\n",
    "schiap_dict[\"title\"] = \"Schiaparelli Hemisphere Enhanced\"\n",
    "schiap_dict[\"image_url\"] = browser.url\n",
    "\n",
    "schiap_dict"
   ]
  },
  {
   "cell_type": "code",
   "execution_count": null,
   "id": "12a91384",
   "metadata": {},
   "outputs": [],
   "source": [
    "# Navigate back to the main page\n",
    "\n",
    "browser.back()"
   ]
  },
  {
   "cell_type": "code",
   "execution_count": null,
   "id": "bda89d00",
   "metadata": {},
   "outputs": [],
   "source": [
    "# Use Splinter to click on Syrtis Major picture\n",
    "\n",
    "browser.links.find_by_partial_text('Syrtis Major Hemisphere Enhanced').click()"
   ]
  },
  {
   "cell_type": "code",
   "execution_count": null,
   "id": "b5d4cc0e",
   "metadata": {},
   "outputs": [],
   "source": [
    "# Get Syrtis Major Hemisphere\n",
    "\n",
    "syrtis_dict = {}\n",
    "syrtis_dict[\"title\"] = \"Syrtis Major Hemisphere Enhanced\"\n",
    "syrtis_dict[\"image_url\"] = browser.url\n",
    "\n",
    "syrtis_dict"
   ]
  },
  {
   "cell_type": "code",
   "execution_count": null,
   "id": "81724001",
   "metadata": {},
   "outputs": [],
   "source": [
    "# Navigate back to the main page\n",
    "\n",
    "browser.back()"
   ]
  },
  {
   "cell_type": "code",
   "execution_count": null,
   "id": "9350c560",
   "metadata": {},
   "outputs": [],
   "source": [
    "# Use Splinter to click on Valles Marineris picture\n",
    "\n",
    "browser.links.find_by_partial_text('Valles Marineris Hemisphere Enhanced').click()"
   ]
  },
  {
   "cell_type": "code",
   "execution_count": null,
   "id": "00f139af",
   "metadata": {},
   "outputs": [],
   "source": [
    "# Get Valles Marineris Hemisphere\n",
    "\n",
    "valles_dict = {}\n",
    "valles_dict[\"title\"] = \"Valles Marineris Hemisphere Enhanced\"\n",
    "valles_dict[\"image_url\"] = browser.url\n",
    "\n",
    "valles_dict"
   ]
  },
  {
   "cell_type": "code",
   "execution_count": null,
   "id": "f6e698c1",
   "metadata": {},
   "outputs": [],
   "source": [
    "# Append dictionaries to hemispheres list\n",
    "\n",
    "hemispheres.append(cerberus_dict)\n",
    "hemispheres.append(schiap_dict)\n",
    "hemispheres.append(syrtis_dict)\n",
    "hemispheres.append(valles_dict)\n",
    "hemispheres"
   ]
  },
  {
   "cell_type": "code",
   "execution_count": null,
   "id": "8162a3b7",
   "metadata": {},
   "outputs": [],
   "source": [
    "# Quit the browser\n",
    "\n",
    "browser.quit()"
   ]
  },
  {
   "cell_type": "code",
   "execution_count": null,
   "id": "2734f681",
   "metadata": {},
   "outputs": [],
   "source": []
  }
 ],
 "metadata": {
  "kernelspec": {
   "display_name": "Python 3 (ipykernel)",
   "language": "python",
   "name": "python3"
  },
  "language_info": {
   "codemirror_mode": {
    "name": "ipython",
    "version": 3
   },
   "file_extension": ".py",
   "mimetype": "text/x-python",
   "name": "python",
   "nbconvert_exporter": "python",
   "pygments_lexer": "ipython3",
   "version": "3.8.13"
  }
 },
 "nbformat": 4,
 "nbformat_minor": 5
}
